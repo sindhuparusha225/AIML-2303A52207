{
  "nbformat": 4,
  "nbformat_minor": 0,
  "metadata": {
    "colab": {
      "provenance": [],
      "authorship_tag": "ABX9TyNfATH1WC8qW7UCw/StIh2+",
      "include_colab_link": true
    },
    "kernelspec": {
      "name": "python3",
      "display_name": "Python 3"
    },
    "language_info": {
      "name": "python"
    }
  },
  "cells": [
    {
      "cell_type": "markdown",
      "metadata": {
        "id": "view-in-github",
        "colab_type": "text"
      },
      "source": [
        "<a href=\"https://colab.research.google.com/github/sindhuparusha225/AIML-2303A52207/blob/main/Lab01_AIML.ipynb\" target=\"_parent\"><img src=\"https://colab.research.google.com/assets/colab-badge.svg\" alt=\"Open In Colab\"/></a>"
      ]
    },
    {
      "cell_type": "markdown",
      "source": [],
      "metadata": {
        "id": "obNouF7E5MIS"
      }
    },
    {
      "cell_type": "markdown",
      "source": [
        "Part 1 Implement Basic Data Structures using Numpy, Pandas\n",
        " 1. Lists\n",
        " 2. Arrays\n",
        " 3. Identify their type using type()\n",
        " 4. Perform mathematical operations on these datasets created- multiplication, division,\n",
        " powero\n",
        " 5. Combine text with Numpy fuction to generate a textual output- Addition of Two:\n",
        " array1 +array 2\n",
        " 6. Implement np.sin(), log(), log2(), np.exp())"
      ],
      "metadata": {
        "id": "ztJD33sF5YX_"
      }
    },
    {
      "cell_type": "markdown",
      "source": [],
      "metadata": {
        "id": "-MtN8ZX55eL1"
      }
    },
    {
      "cell_type": "code",
      "source": [
        "import numpy as np\n",
        "list1=[1,2,3]\n",
        "array1 = np.array(list1)\n",
        "array1"
      ],
      "metadata": {
        "colab": {
          "base_uri": "https://localhost:8080/"
        },
        "id": "L8Fgmsn15iW-",
        "outputId": "016a0be5-2362-4a98-d791-4813d1be2059"
      },
      "execution_count": 2,
      "outputs": [
        {
          "output_type": "execute_result",
          "data": {
            "text/plain": [
              "array([1, 2, 3])"
            ]
          },
          "metadata": {},
          "execution_count": 2
        }
      ]
    },
    {
      "cell_type": "code",
      "source": [
        "import numpy as np\n",
        "list2=[4,5,6]\n",
        "array2 =np.array(list2)\n",
        "array2"
      ],
      "metadata": {
        "colab": {
          "base_uri": "https://localhost:8080/"
        },
        "id": "h6z546CX9qfM",
        "outputId": "a4777e95-f244-42a3-d374-56bc2c21c03e"
      },
      "execution_count": 3,
      "outputs": [
        {
          "output_type": "execute_result",
          "data": {
            "text/plain": [
              "array([4, 5, 6])"
            ]
          },
          "metadata": {},
          "execution_count": 3
        }
      ]
    },
    {
      "cell_type": "code",
      "source": [
        "type(list1)"
      ],
      "metadata": {
        "colab": {
          "base_uri": "https://localhost:8080/"
        },
        "id": "icDtV9JO926i",
        "outputId": "5335120a-e3f9-4a03-e9e1-7bc6b1dd252c"
      },
      "execution_count": 11,
      "outputs": [
        {
          "output_type": "execute_result",
          "data": {
            "text/plain": [
              "tuple"
            ]
          },
          "metadata": {},
          "execution_count": 11
        }
      ]
    },
    {
      "cell_type": "code",
      "source": [
        "type(array1)"
      ],
      "metadata": {
        "colab": {
          "base_uri": "https://localhost:8080/"
        },
        "id": "ypbgDmCP-r9A",
        "outputId": "3bc1e1a8-67d8-4229-ad3e-2b740697034c"
      },
      "execution_count": 12,
      "outputs": [
        {
          "output_type": "execute_result",
          "data": {
            "text/plain": [
              "numpy.ndarray"
            ]
          },
          "metadata": {},
          "execution_count": 12
        }
      ]
    },
    {
      "cell_type": "code",
      "source": [
        "print(\"sum of array1 and array2\",array1+array2)"
      ],
      "metadata": {
        "colab": {
          "base_uri": "https://localhost:8080/"
        },
        "id": "n9EWb_-P-wUf",
        "outputId": "3a4e3b38-5b52-4c67-a1f1-b3409493de39"
      },
      "execution_count": 6,
      "outputs": [
        {
          "output_type": "stream",
          "name": "stdout",
          "text": [
            "sum of array1 and array2 [5 7 9]\n"
          ]
        }
      ]
    },
    {
      "cell_type": "code",
      "source": [
        "print(\"Multiplication of arrays\",array1*array2)"
      ],
      "metadata": {
        "colab": {
          "base_uri": "https://localhost:8080/"
        },
        "id": "aiwQRb98_N_B",
        "outputId": "c370bf62-4767-421a-f27f-b7baa4695367"
      },
      "execution_count": 7,
      "outputs": [
        {
          "output_type": "stream",
          "name": "stdout",
          "text": [
            "Multiplication of arrays [ 4 10 18]\n"
          ]
        }
      ]
    },
    {
      "cell_type": "code",
      "source": [
        "print(\"Division of array1  by array2\",array1%array2)"
      ],
      "metadata": {
        "colab": {
          "base_uri": "https://localhost:8080/"
        },
        "id": "CZN7ZGU5_WsJ",
        "outputId": "ba95742c-4661-4a2c-df54-875ae9ef6ca0"
      },
      "execution_count": 8,
      "outputs": [
        {
          "output_type": "stream",
          "name": "stdout",
          "text": [
            "Division of array1  by array2 [1 2 3]\n"
          ]
        }
      ]
    },
    {
      "cell_type": "code",
      "source": [
        "print(\"array1 to th power array2\",array1**array2)"
      ],
      "metadata": {
        "colab": {
          "base_uri": "https://localhost:8080/"
        },
        "id": "D3nFRuOF_2D0",
        "outputId": "01490883-9b66-42df-98a9-de3e95b67f75"
      },
      "execution_count": 9,
      "outputs": [
        {
          "output_type": "stream",
          "name": "stdout",
          "text": [
            "array1 to th power array2 [  1  32 729]\n"
          ]
        }
      ]
    },
    {
      "cell_type": "markdown",
      "source": [
        "np.sin(), log(), log2(), np.exp())arrays\n"
      ],
      "metadata": {
        "id": "KONwdziyAv5p"
      }
    },
    {
      "cell_type": "code",
      "source": [
        "print(\"Sine= \",np.sin(array1))\n",
        "print(\"Natural logarithm= \",np.log(array1))\n",
        "print(\"Base-10 logarithm= \",np.log10(array1))\n",
        "print(\"Base-2 logarithm= \",np.log2(array1))\n",
        "print(\"Exponential= \",np.exp(array1))"
      ],
      "metadata": {
        "colab": {
          "base_uri": "https://localhost:8080/"
        },
        "id": "WK3RpAVNAyOY",
        "outputId": "da24d6f5-19b0-438d-9124-d2f59af2617c"
      },
      "execution_count": 14,
      "outputs": [
        {
          "output_type": "stream",
          "name": "stdout",
          "text": [
            "Sine=  [0.84147098 0.90929743 0.14112001]\n",
            "Natural logarithm=  [0.         0.69314718 1.09861229]\n",
            "Base-10 logarithm=  [0.         0.30103    0.47712125]\n",
            "Base-2 logarithm=  [0.        1.        1.5849625]\n",
            "Exponential=  [ 2.71828183  7.3890561  20.08553692]\n"
          ]
        }
      ]
    },
    {
      "cell_type": "code",
      "source": [
        "print(\"Sine= \",np.sin(array2))\n",
        "print(\"Natural logarithm =\",np.log(array2))\n",
        "print(\"Base-10 logarithm= \",np.log10(array2))\n",
        "print(\"Base-2 logarithm= \",np.log2(array2))\n",
        "print(\"Exponential= \",np.exp(array2))"
      ],
      "metadata": {
        "colab": {
          "base_uri": "https://localhost:8080/"
        },
        "id": "P2oGidXoBTyE",
        "outputId": "cd342bb0-6598-40bb-ac27-3276fd43eb1a"
      },
      "execution_count": 15,
      "outputs": [
        {
          "output_type": "stream",
          "name": "stdout",
          "text": [
            "Sine=  [-0.7568025  -0.95892427 -0.2794155 ]\n",
            "Natural logarithm = [1.38629436 1.60943791 1.79175947]\n",
            "Base-10 logarithm=  [0.60205999 0.69897    0.77815125]\n",
            "Base-2 logarithm=  [2.         2.32192809 2.5849625 ]\n",
            "Exponential=  [ 54.59815003 148.4131591  403.42879349]\n"
          ]
        }
      ]
    }
  ]
}